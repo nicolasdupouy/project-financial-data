{
 "cells": [
  {
   "cell_type": "code",
   "execution_count": 1,
   "metadata": {},
   "outputs": [],
   "source": [
    "import pandas as pd"
   ]
  },
  {
   "cell_type": "code",
   "execution_count": 1,
   "metadata": {},
   "outputs": [],
   "source": [
    "# dfdata_mars=pd.read_excel(r\"C:\\Users\\Hanane\\Documents\\Cours\\IronHack\\Project\\financial-data\\documents\\MARCH 2017 News Release attachment.xls\", header=3)"
   ]
  },
  {
   "cell_type": "markdown",
   "metadata": {},
   "source": [
    "# Boucler sur tous les fichiers du dossier"
   ]
  },
  {
   "cell_type": "code",
   "execution_count": 3,
   "metadata": {},
   "outputs": [],
   "source": [
    "from os import listdir\n",
    "from os.path import isfile, join"
   ]
  },
  {
   "cell_type": "code",
   "execution_count": 111,
   "metadata": {},
   "outputs": [],
   "source": [
    "monRepertoire=r\"C:\\Users\\Hanane\\Documents\\Cours\\IronHack\\Project\\financial-data\\documents\""
   ]
  },
  {
   "cell_type": "code",
   "execution_count": 112,
   "metadata": {},
   "outputs": [],
   "source": [
    "fichiers = [f for f in listdir(monRepertoire) if isfile(join(monRepertoire, f))]"
   ]
  },
  {
   "cell_type": "code",
   "execution_count": 74,
   "metadata": {
    "collapsed": true
   },
   "outputs": [
    {
     "data": {
      "text/plain": [
       "['APRIL 2015 News Release attachment.xls',\n",
       " 'APRIL 2016 News Release attachment.xls',\n",
       " 'AUGUST 2016 News Release attachment.xls',\n",
       " 'DECEMBER  2016 News Release attachment.xls',\n",
       " 'DECEMBER 2014 News Release attachment.xls',\n",
       " 'DECEMBER 2015 News Release attachment.xls',\n",
       " 'FEBRUARY 2015 News Release attachment.xls',\n",
       " 'FEBRUARY 2016 News Release attachment.xls',\n",
       " 'FEBRUARY 2017 News Release attachment.xls',\n",
       " 'JANUARY 2015 News Release attachment.xls',\n",
       " 'JANUARY 2016 News Release attachment.xls',\n",
       " 'JANUARY 2017 News Release attachment.xls',\n",
       " 'JULY 2015 News Release attachment.xls',\n",
       " 'JULY 2016 News Release attachment.xls',\n",
       " 'JUNE 2015 News Release attachment.xls',\n",
       " 'MARCH 2015 News Release attachment.xls',\n",
       " 'MARCH 2016 News Release attachment.xls',\n",
       " 'MARCH 2017 News Release attachment.xls',\n",
       " 'MAY 2015 News Release attachment.xls',\n",
       " 'NOVEMBER  2016 News Release attachment.xls',\n",
       " 'NOVEMBER 2014 News Release attachment.xls',\n",
       " 'NOVEMBER 2015 News Release attachment.xls',\n",
       " 'OCTOBER  2016 News Release attachment.xls',\n",
       " 'OCTOBER 2015 News Release attachment.xls',\n",
       " 'SEPTEMBER  2016 News Release attachment.xls',\n",
       " 'SEPTEMBER 2015 News Release attachment.xls']"
      ]
     },
     "execution_count": 74,
     "metadata": {},
     "output_type": "execute_result"
    }
   ],
   "source": [
    "fichiers"
   ]
  },
  {
   "cell_type": "code",
   "execution_count": 137,
   "metadata": {},
   "outputs": [],
   "source": [
    "listcolumns=['Symbol','Product','Total Volume','Average Daily Volume','%Change vs same Month last year','%Change vs last Month','YTD Total Volume','YTD Average Daily Volume','YTD % Change vs same Month last year','Open Interest','OI % Change vs last year','MONTH','YEAR']\n",
    "dfglobal=pd.DataFrame()\n",
    "# dfglobal.columns=listcolumns\n",
    "start_folder=r\"C:\\Users\\Hanane\\Documents\\Cours\\IronHack\\Project\\financial-data\\documents\"\n",
    "for f in fichiers:    \n",
    "    df=pd.read_excel(join(start_folder,f), header=3)\n",
    "    month=f.split(' ',1)[0]\n",
    "    year=f.split(' ',1)[1].split(' ',1)[0]\n",
    "    if year==\"\":\n",
    "        year=f.split(' ',1)[1].split(' ',1)[1].split(' ',1)[0]\n",
    "    df['MONTH']=month\n",
    "    df['YEAR']=year\n",
    "    df.columns=listcolumns\n",
    "    dfglobal=pd.concat([df,dfglobal])\n",
    "    if year==\"\":\n",
    "        print(f)\n",
    "\n",
    "target_folder=r\"C:\\Users\\Hanane\\Documents\\Cours\\IronHack\\Project\\financial-data\\documents\\global\"\n",
    "f=\"GLOBAL_DATA.xls\"\n",
    "dfglobal.to_excel(join(target_folder,f))"
   ]
  },
  {
   "cell_type": "code",
   "execution_count": 133,
   "metadata": {},
   "outputs": [
    {
     "data": {
      "text/plain": [
       "array(['2015', '2016', '2014', '2017'], dtype=object)"
      ]
     },
     "execution_count": 133,
     "metadata": {},
     "output_type": "execute_result"
    }
   ],
   "source": [
    "dfglobal.YEAR.unique()"
   ]
  },
  {
   "cell_type": "code",
   "execution_count": 4,
   "metadata": {},
   "outputs": [],
   "source": [
    "monRepertoire=r\"C:\\Users\\Hanane\\Documents\\Cours\\IronHack\\Project\\financial-data\\documents\\global\"\n",
    "f=\"GLOBAL_DATA.xls\"\n",
    "dfglobal=pd.read_excel(join(monRepertoire,f))"
   ]
  },
  {
   "cell_type": "code",
   "execution_count": 6,
   "metadata": {},
   "outputs": [
    {
     "data": {
      "text/plain": [
       "array(['SPX', 'VIX', 'SPY', 'IWM', 'QQQ', 'RUT', 'EEM', 'XLF', 'GLD',\n",
       "       'XSP', 'SPXPM', 'DIA', 'OEX', 'XLE', 'NDX', 'DJX', 'OIH', 'SMH',\n",
       "       'XEO', 'MNX', 'RVX'], dtype=object)"
      ]
     },
     "execution_count": 6,
     "metadata": {},
     "output_type": "execute_result"
    }
   ],
   "source": [
    "dfglobal.Symbol.unique()"
   ]
  },
  {
   "cell_type": "code",
   "execution_count": 9,
   "metadata": {},
   "outputs": [
    {
     "data": {
      "text/plain": [
       "Symbol                                  542\n",
       "Product                                 542\n",
       "Total Volume                            542\n",
       "Average Daily Volume                    542\n",
       "%Change vs same Month last year         536\n",
       "%Change vs last Month                   532\n",
       "YTD Total Volume                        542\n",
       "YTD Average Daily Volume                542\n",
       "YTD % Change vs same Month last year    541\n",
       "Open Interest                           542\n",
       "OI % Change vs last year                540\n",
       "MONTH                                   542\n",
       "YEAR                                    542\n",
       "dtype: int64"
      ]
     },
     "execution_count": 9,
     "metadata": {},
     "output_type": "execute_result"
    }
   ],
   "source": [
    "dfglobal.count()"
   ]
  },
  {
   "cell_type": "code",
   "execution_count": 103,
   "metadata": {},
   "outputs": [],
   "source": [
    "monRepertoire=r\"C:\\Users\\Hanane\\Documents\\Cours\\IronHack\\Project\\financial-data\\documents\"\n",
    "f=\"JANUARY 2015 News Release attachment.xls\"\n",
    "df2=pd.read_excel(join(monRepertoire,f))"
   ]
  }
 ],
 "metadata": {
  "kernelspec": {
   "display_name": "Python 3",
   "language": "python",
   "name": "python3"
  },
  "language_info": {
   "codemirror_mode": {
    "name": "ipython",
    "version": 3
   },
   "file_extension": ".py",
   "mimetype": "text/x-python",
   "name": "python",
   "nbconvert_exporter": "python",
   "pygments_lexer": "ipython3",
   "version": "3.6.5"
  }
 },
 "nbformat": 4,
 "nbformat_minor": 2
}
